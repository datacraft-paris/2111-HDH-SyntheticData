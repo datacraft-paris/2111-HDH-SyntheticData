{
 "cells": [
  {
   "cell_type": "markdown",
   "id": "59363da9-0981-409d-9d43-a68c874e80f0",
   "metadata": {
    "tags": []
   },
   "source": [
    "# Atelier Datacraft - génération de données de synthèse\n",
    "\n",
    "L'objectif de la partie pratique de cet atelier est axée sur la génération de données sans avoir accès à la base de données réelle. \n",
    "\n",
    "**Sommaire**\n",
    "- [Préparation](#Préparation)\n",
    "- [1. Limites de la méthode](#1.-Limites-de-la-méthode)\n",
    "- [2. Axe d'amélioration n°1: réalisme statistique](#2.-Réalisme-statistique)\n",
    "- [3. Axe d'amélioration n°2: règles métier](#3.-Règles-métier)\n",
    "- [4. Axe d'amélioration n°3: volumétrie](#4.-Volumétrie)"
   ]
  },
  {
   "cell_type": "markdown",
   "id": "33aa51dc-5097-46db-95a7-cce4fbd7c613",
   "metadata": {},
   "source": [
    "## Préparation\n",
    "\n",
    "Dans cette partie, nous installons le module qui sert à générer les données de synthèse. \n",
    "<br>Nous récupérons aussi un jeu de données déjà généré."
   ]
  },
  {
   "cell_type": "code",
   "execution_count": 1,
   "id": "53fb112a-8d3a-4a99-9d36-c9ed56283889",
   "metadata": {},
   "outputs": [],
   "source": [
    "%load_ext autoreload \n",
    "%autoreload 2"
   ]
  },
  {
   "cell_type": "code",
   "execution_count": 14,
   "id": "98a184f0-a905-498f-b2f8-58d247c24a33",
   "metadata": {},
   "outputs": [],
   "source": [
    "import pandas as pd \n",
    "import numpy as np\n",
    "import matplotlib.pyplot as plt\n",
    "import requests\n",
    "from io import StringIO"
   ]
  },
  {
   "cell_type": "code",
   "execution_count": null,
   "id": "a1c7dee1-0ae0-4bd8-9a40-98b5018db4c0",
   "metadata": {},
   "outputs": [],
   "source": [
    "! git clone https://gitlab.com/healthdatahub/synthetic-generator.git"
   ]
  },
  {
   "cell_type": "code",
   "execution_count": 52,
   "id": "8dab10f6-da09-4937-8630-4bb0299fd3eb",
   "metadata": {},
   "outputs": [],
   "source": [
    "def url(table,nomenc=False):\n",
    "    if nomenc: \n",
    "        return f'https://gitlab.com/healthdatahub/schema-snds/-/raw/master/nomenclatures/ORAVAL/{table}.csv'\n",
    "    return f'https://gitlab.com/healthdatahub/formation/exercices-snds/-/raw/hdh_synthetic_data/HDH/data/{table}.csv'"
   ]
  },
  {
   "cell_type": "code",
   "execution_count": 22,
   "id": "7553e18a-df30-41b5-9a13-189120839588",
   "metadata": {},
   "outputs": [],
   "source": [
    "#tables patients\n",
    "irbenr = pd.read_csv(StringIO(requests.get(url('IR_BEN_R')).text)) #bénéficiaires\n",
    "mcoc = pd.read_csv(StringIO(requests.get(url('T_MCOaaC')).text)) #chaînage \n",
    "mcob = pd.read_csv(StringIO(requests.get(url('T_MCOaaB')).text)) #contient les résumés de séjours et diagnostics\n",
    "mcod = pd.read_csv(StringIO(requests.get(url('T_MCOaaD')).text)) #contient les diagnostics associés\n",
    "mcoa = pd.read_csv(StringIO(requests.get(url('T_MCOaaA')).text)) #contient les actes"
   ]
  },
  {
   "cell_type": "code",
   "execution_count": 60,
   "id": "56e488e6-20b4-4d1c-9484-c0796fe4968a",
   "metadata": {},
   "outputs": [],
   "source": [
    "#nomenclatures\n",
    "ircimv = pd.read_csv(StringIO(requests.get(url('IR_CIM_V',nomenc=True)).text),sep=';') #nomenclature des diagnostics\n",
    "cim2lib = ircimv[['CIM_COD','CIM_LIB']].set_index('CIM_COD').to_dict()['CIM_LIB']"
   ]
  },
  {
   "cell_type": "markdown",
   "id": "e11e286a-5205-4fec-b996-ce5c45a2f44e",
   "metadata": {},
   "source": [
    "**La structure de jointure est comme suit:**\n",
    "<br>IR_BEN_R $\\rightarrow$ T_MCOaaC sur `BEN_NIR_PSA`|`NIR_ANO_17`\n",
    "<br>T_MCOaaC $\\rightarrow$ T_MCOaaB sur `['ETA_NUM','RSA_NUM']`\n",
    "<br>T_MCOaaB $\\rightarrow$ T_MCOaaD sur `['ETA_NUM','RSA_NUM']`\n",
    "<br>T_MCOaaB $\\rightarrow$ T_MCOaaA sur `['ETA_NUM','RSA_NUM']`"
   ]
  },
  {
   "cell_type": "markdown",
   "id": "a8265b7c-ec0a-451e-be4e-92050a937ce8",
   "metadata": {},
   "source": [
    "## 1. Limites de la méthode\n",
    "\n",
    "Dans cette partie, nous exposons différentes limites de la méthode de génération. Cela nous permet aussi de nous familiariser avec le jeu de données. \n",
    "\n",
    "*Le jeu de données est une portion du Système National des Données de Santé (SNDS).\n",
    "L'extrait donné ici est constitué de données d'hospitalisation.* "
   ]
  },
  {
   "cell_type": "code",
   "execution_count": 56,
   "id": "959cb437-bb11-47c1-ae66-c6dea15659a8",
   "metadata": {},
   "outputs": [
    {
     "data": {
      "image/png": "[encoded data removed]",
      "text/plain": [
       "<Figure size 1008x360 with 1 Axes>"
      ]
     },
     "metadata": {
      "needs_background": "light"
     },
     "output_type": "display_data"
    }
   ],
   "source": [
    "# distribution des diagnostics\n",
    "plt.figure(figsize=(14,5))\n",
    "mcob['DGN_PAL'].apply(lambda x:x[:3])\\\n",
    "               .value_counts()\\\n",
    "               .sort_values(ascending=False)\\\n",
    "               .iloc[:25]\\\n",
    "               .plot(kind='bar')\n",
    "plt.show()"
   ]
  },
  {
   "cell_type": "code",
   "execution_count": 61,
   "id": "4f7b0e41-b450-45da-95ef-22e33059353e",
   "metadata": {},
   "outputs": [
    {
     "data": {
      "text/plain": [
       "\"Démence au cours d'autres maladies classées ailleurs\""
      ]
     },
     "execution_count": 61,
     "metadata": {},
     "output_type": "execute_result"
    }
   ],
   "source": [
    "#diagnostic le plus fréquent\n",
    "cim2lib['F02']"
   ]
  },
  {
   "cell_type": "code",
   "execution_count": 55,
   "id": "d94c98a8-9e6e-4740-9041-c7b5e61b053b",
   "metadata": {},
   "outputs": [],
   "source": [
    "flat_mco = mcob[['DGN_PAL','ETA_NUM','RSA_NUM']]\\\n",
    "            .merge(mcoc[['NIR_ANO_17','ETA_NUM','RSA_NUM']],on=['RSA_NUM','ETA_NUM'])\\\n",
    "            .merge(irbenr[['BEN_NAI_ANN','BEN_NIR_PSA','BEN_SEX_COD']],\n",
    "                    left_on='NIR_ANO_17',\n",
    "                    right_on='BEN_NIR_PSA')"
   ]
  },
  {
   "cell_type": "code",
   "execution_count": 65,
   "id": "62d9f7a3-a5fb-4535-a982-aedd9e58f83f",
   "metadata": {},
   "outputs": [
    {
     "data": {
      "image/png": "[encoded data removed]",
      "text/plain": [
       "<Figure size 1008x360 with 1 Axes>"
      ]
     },
     "metadata": {
      "needs_background": "light"
     },
     "output_type": "display_data"
    }
   ],
   "source": [
    "#problèmes liés à l'âge\n",
    "plt.figure(figsize=(14,5))\n",
    "#filtrage sur les patients de moins de 30 ans\n",
    "flat_mco[flat_mco['BEN_NAI_ANN']>=1990]\\\n",
    "['DGN_PAL']\\\n",
    ".apply(lambda x:x[:3])\\\n",
    ".value_counts()\\\n",
    ".sort_values(ascending=False)\\\n",
    ".iloc[:25]\\\n",
    ".plot(kind='bar')\n",
    "plt.show()"
   ]
  },
  {
   "cell_type": "markdown",
   "id": "43f06bb3-5d71-48df-943b-cfe16bc7eb6a",
   "metadata": {},
   "source": [
    "On voit le même diagnostic apparaître comme diagnostic le plus fréquent (or il est peu probable que la démence soit le diagnostic le plus fréquent chez les patients de moins de 30 ans)"
   ]
  },
  {
   "cell_type": "code",
   "execution_count": 75,
   "id": "826b9fbb-e61d-4ac4-9b29-d19a610bc668",
   "metadata": {},
   "outputs": [
    {
     "data": {
      "text/html": [
       "<div>\n",
       "<style scoped>\n",
       "    .dataframe tbody tr th:only-of-type {\n",
       "        vertical-align: middle;\n",
       "    }\n",
       "\n",
       "    .dataframe tbody tr th {\n",
       "        vertical-align: top;\n",
       "    }\n",
       "\n",
       "    .dataframe thead th {\n",
       "        text-align: right;\n",
       "    }\n",
       "</style>\n",
       "<table border=\"1\" class=\"dataframe\">\n",
       "  <thead>\n",
       "    <tr style=\"text-align: right;\">\n",
       "      <th></th>\n",
       "      <th>BEN_NIR_PSA</th>\n",
       "      <th>n_hosp</th>\n",
       "      <th>BEN_RNG_GEM</th>\n",
       "      <th>BEN_NIR_ANO</th>\n",
       "      <th>BEN_IDT_ANO</th>\n",
       "      <th>BEN_IDT_TOP</th>\n",
       "      <th>ASS_NIR_ANO</th>\n",
       "      <th>BEN_IDT_MAJ</th>\n",
       "      <th>BEN_CDI_NIR</th>\n",
       "      <th>BEN_NAI_ANN</th>\n",
       "      <th>...</th>\n",
       "      <th>BEN_DCD_DTE</th>\n",
       "      <th>BEN_DCD_AME</th>\n",
       "      <th>ORG_AFF_BEN</th>\n",
       "      <th>BEN_RES_DPT</th>\n",
       "      <th>BEN_RES_COM</th>\n",
       "      <th>BEN_TOP_CNS</th>\n",
       "      <th>MAX_TRT_DTD</th>\n",
       "      <th>ORG_CLE_NEW</th>\n",
       "      <th>BEN_DTE_INS</th>\n",
       "      <th>BEN_DTE_MAJ</th>\n",
       "    </tr>\n",
       "  </thead>\n",
       "  <tbody>\n",
       "    <tr>\n",
       "      <th>0</th>\n",
       "      <td>AArNMWoOCccownnLL</td>\n",
       "      <td>6</td>\n",
       "      <td>1</td>\n",
       "      <td>lPFncTYdmUvppwNKj</td>\n",
       "      <td>hLLNzJzCEjCatjuOQ</td>\n",
       "      <td>True</td>\n",
       "      <td>bQILbCWSdkGtOFVRV</td>\n",
       "      <td>29Mar2008:16:06:58</td>\n",
       "      <td>09</td>\n",
       "      <td>2009</td>\n",
       "      <td>...</td>\n",
       "      <td>27SEP1944:00:00:00</td>\n",
       "      <td>201605</td>\n",
       "      <td>01C741986</td>\n",
       "      <td>012</td>\n",
       "      <td>5</td>\n",
       "      <td>True</td>\n",
       "      <td>23/03/1977</td>\n",
       "      <td>01C141031</td>\n",
       "      <td>18AUG1946:00:00:00</td>\n",
       "      <td>29DEC1879:00:00:00</td>\n",
       "    </tr>\n",
       "    <tr>\n",
       "      <th>1</th>\n",
       "      <td>AAraajBBOvYaZiPjo</td>\n",
       "      <td>3</td>\n",
       "      <td>0</td>\n",
       "      <td>mwbazBsxNuOwBZaBD</td>\n",
       "      <td>SOtppObsuLTTswJvn</td>\n",
       "      <td>False</td>\n",
       "      <td>WVLsDaagYickHVstY</td>\n",
       "      <td>18May1977:10:26:53</td>\n",
       "      <td>05</td>\n",
       "      <td>2004</td>\n",
       "      <td>...</td>\n",
       "      <td>11JUN2007:00:00:00</td>\n",
       "      <td>201709</td>\n",
       "      <td>01C631231</td>\n",
       "      <td>012</td>\n",
       "      <td>18</td>\n",
       "      <td>False</td>\n",
       "      <td>11/07/1975</td>\n",
       "      <td>99C191599</td>\n",
       "      <td>28MAR2016:00:00:00</td>\n",
       "      <td>15AUG1966:00:00:00</td>\n",
       "    </tr>\n",
       "    <tr>\n",
       "      <th>2</th>\n",
       "      <td>AEucNQUlsOsucxkKG</td>\n",
       "      <td>2</td>\n",
       "      <td>0</td>\n",
       "      <td>FCEHHgXopcjjVOhvo</td>\n",
       "      <td>ZQWdkNGowBqQazPvh</td>\n",
       "      <td>False</td>\n",
       "      <td>BIimmcssWLqkAbwjb</td>\n",
       "      <td>13Mar1985:18:30:46</td>\n",
       "      <td>NN</td>\n",
       "      <td>1971</td>\n",
       "      <td>...</td>\n",
       "      <td>10DEC1943:00:00:00</td>\n",
       "      <td>201112</td>\n",
       "      <td>01M311537</td>\n",
       "      <td>065</td>\n",
       "      <td>157</td>\n",
       "      <td>True</td>\n",
       "      <td>25/03/2000</td>\n",
       "      <td>91C541493</td>\n",
       "      <td>07APR1975:00:00:00</td>\n",
       "      <td>31OCT1934:00:00:00</td>\n",
       "    </tr>\n",
       "    <tr>\n",
       "      <th>3</th>\n",
       "      <td>AFEsSBefRtfZVjOTS</td>\n",
       "      <td>9</td>\n",
       "      <td>5</td>\n",
       "      <td>OYtDssffadniPtRNH</td>\n",
       "      <td>ppBEgPUTdlboxdtZe</td>\n",
       "      <td>True</td>\n",
       "      <td>gbIchBantEbcUYIii</td>\n",
       "      <td>08Dec1972:01:50:10</td>\n",
       "      <td>99</td>\n",
       "      <td>1972</td>\n",
       "      <td>...</td>\n",
       "      <td>15JUL2007:00:00:00</td>\n",
       "      <td>198508</td>\n",
       "      <td>95C331005</td>\n",
       "      <td>065</td>\n",
       "      <td>480</td>\n",
       "      <td>True</td>\n",
       "      <td>30/06/2007</td>\n",
       "      <td>92C511052</td>\n",
       "      <td>10JUN1882:00:00:00</td>\n",
       "      <td>04JAN1912:00:00:00</td>\n",
       "    </tr>\n",
       "    <tr>\n",
       "      <th>4</th>\n",
       "      <td>AGVklNcRTyLgcjSNf</td>\n",
       "      <td>1</td>\n",
       "      <td>4</td>\n",
       "      <td>dYEugVIEFFsqGckzP</td>\n",
       "      <td>oiwKBXKSCAQduiLeu</td>\n",
       "      <td>False</td>\n",
       "      <td>lkqMQwmlIAhLSAyyt</td>\n",
       "      <td>24Mar2020:03:19:29</td>\n",
       "      <td>04</td>\n",
       "      <td>1988</td>\n",
       "      <td>...</td>\n",
       "      <td>07DEC1960:00:00:00</td>\n",
       "      <td>198104</td>\n",
       "      <td>01C595551</td>\n",
       "      <td>072</td>\n",
       "      <td>277</td>\n",
       "      <td>False</td>\n",
       "      <td>05/11/2016</td>\n",
       "      <td>01C441230</td>\n",
       "      <td>19OCT1977:00:00:00</td>\n",
       "      <td>04JUN1964:00:00:00</td>\n",
       "    </tr>\n",
       "    <tr>\n",
       "      <th>...</th>\n",
       "      <td>...</td>\n",
       "      <td>...</td>\n",
       "      <td>...</td>\n",
       "      <td>...</td>\n",
       "      <td>...</td>\n",
       "      <td>...</td>\n",
       "      <td>...</td>\n",
       "      <td>...</td>\n",
       "      <td>...</td>\n",
       "      <td>...</td>\n",
       "      <td>...</td>\n",
       "      <td>...</td>\n",
       "      <td>...</td>\n",
       "      <td>...</td>\n",
       "      <td>...</td>\n",
       "      <td>...</td>\n",
       "      <td>...</td>\n",
       "      <td>...</td>\n",
       "      <td>...</td>\n",
       "      <td>...</td>\n",
       "      <td>...</td>\n",
       "    </tr>\n",
       "    <tr>\n",
       "      <th>1995</th>\n",
       "      <td>zxOCyrENUUzqROvlH</td>\n",
       "      <td>4</td>\n",
       "      <td>8</td>\n",
       "      <td>LMGqCiThEUVHkruPj</td>\n",
       "      <td>OYNZDuXcmQifOoPRp</td>\n",
       "      <td>False</td>\n",
       "      <td>OUCxkalYgQnopqPIv</td>\n",
       "      <td>18Apr2011:23:08:10</td>\n",
       "      <td>09</td>\n",
       "      <td>1968</td>\n",
       "      <td>...</td>\n",
       "      <td>22JAN2011:00:00:00</td>\n",
       "      <td>201512</td>\n",
       "      <td>01C131453</td>\n",
       "      <td>095</td>\n",
       "      <td>660</td>\n",
       "      <td>False</td>\n",
       "      <td>28/11/1976</td>\n",
       "      <td>01C673814</td>\n",
       "      <td>05AUG1997:00:00:00</td>\n",
       "      <td>07OCT1914:00:00:00</td>\n",
       "    </tr>\n",
       "    <tr>\n",
       "      <th>1996</th>\n",
       "      <td>zyvVVrsaaxuZxIsmE</td>\n",
       "      <td>5</td>\n",
       "      <td>8</td>\n",
       "      <td>QLNfiuXZGTpUpBCxS</td>\n",
       "      <td>CrndhpjRsmGEqjhBG</td>\n",
       "      <td>True</td>\n",
       "      <td>KofaeEtwANlfvPfCR</td>\n",
       "      <td>21Jan2016:08:09:31</td>\n",
       "      <td>14</td>\n",
       "      <td>1969</td>\n",
       "      <td>...</td>\n",
       "      <td>30JUN1897:00:00:00</td>\n",
       "      <td>197103</td>\n",
       "      <td>01C596205</td>\n",
       "      <td>02B</td>\n",
       "      <td>109</td>\n",
       "      <td>True</td>\n",
       "      <td>11/03/1970</td>\n",
       "      <td>01C596342</td>\n",
       "      <td>20JUL1902:00:00:00</td>\n",
       "      <td>23APR1980:00:00:00</td>\n",
       "    </tr>\n",
       "    <tr>\n",
       "      <th>1997</th>\n",
       "      <td>zzMUnzuHcfeXZhvkP</td>\n",
       "      <td>1</td>\n",
       "      <td>2</td>\n",
       "      <td>WrZucNcODkiAdIuba</td>\n",
       "      <td>JSQDgnzJbhEstaYdP</td>\n",
       "      <td>True</td>\n",
       "      <td>uQsKKjTrQJEXtCBOO</td>\n",
       "      <td>22Mar1979:02:12:33</td>\n",
       "      <td>14</td>\n",
       "      <td>1964</td>\n",
       "      <td>...</td>\n",
       "      <td>06MAY1963:00:00:00</td>\n",
       "      <td>197409</td>\n",
       "      <td>92C831398</td>\n",
       "      <td>068</td>\n",
       "      <td>172</td>\n",
       "      <td>False</td>\n",
       "      <td>06/09/2015</td>\n",
       "      <td>94C261599</td>\n",
       "      <td>11OCT1923:00:00:00</td>\n",
       "      <td>06MAR1973:00:00:00</td>\n",
       "    </tr>\n",
       "    <tr>\n",
       "      <th>1998</th>\n",
       "      <td>zzVevrHcZeqtxJpox</td>\n",
       "      <td>3</td>\n",
       "      <td>6</td>\n",
       "      <td>eeTAXzOxSETgZVAqx</td>\n",
       "      <td>eUuWCXhjKUXWtYtbP</td>\n",
       "      <td>True</td>\n",
       "      <td>VMZhGKXzAigRekvAh</td>\n",
       "      <td>21Aug2012:10:45:05</td>\n",
       "      <td>05</td>\n",
       "      <td>1994</td>\n",
       "      <td>...</td>\n",
       "      <td>24JUL1958:00:00:00</td>\n",
       "      <td>199104</td>\n",
       "      <td>01C973671</td>\n",
       "      <td>009</td>\n",
       "      <td>284</td>\n",
       "      <td>False</td>\n",
       "      <td>30/10/1987</td>\n",
       "      <td>01C871169</td>\n",
       "      <td>10MAY2017:00:00:00</td>\n",
       "      <td>12APR1989:00:00:00</td>\n",
       "    </tr>\n",
       "    <tr>\n",
       "      <th>1999</th>\n",
       "      <td>zzYkmLsvcVtQxJOsv</td>\n",
       "      <td>7</td>\n",
       "      <td>0</td>\n",
       "      <td>xLIulznwZikmMkuuO</td>\n",
       "      <td>HRWhfIXIgxyPVswjZ</td>\n",
       "      <td>True</td>\n",
       "      <td>DcUXCRtRNwBLTdPfG</td>\n",
       "      <td>06Apr1974:14:50:05</td>\n",
       "      <td>99</td>\n",
       "      <td>2005</td>\n",
       "      <td>...</td>\n",
       "      <td>14OCT1999:00:00:00</td>\n",
       "      <td>197106</td>\n",
       "      <td>01C891872</td>\n",
       "      <td>055</td>\n",
       "      <td>475</td>\n",
       "      <td>True</td>\n",
       "      <td>10/02/1988</td>\n",
       "      <td>01C061481</td>\n",
       "      <td>06NOV1933:00:00:00</td>\n",
       "      <td>06FEB1935:00:00:00</td>\n",
       "    </tr>\n",
       "  </tbody>\n",
       "</table>\n",
       "<p>2000 rows × 22 columns</p>\n",
       "</div>"
      ],
      "text/plain": [
       "            BEN_NIR_PSA  n_hosp  BEN_RNG_GEM        BEN_NIR_ANO  \\\n",
       "0     AArNMWoOCccownnLL       6            1  lPFncTYdmUvppwNKj   \n",
       "1     AAraajBBOvYaZiPjo       3            0  mwbazBsxNuOwBZaBD   \n",
       "2     AEucNQUlsOsucxkKG       2            0  FCEHHgXopcjjVOhvo   \n",
       "3     AFEsSBefRtfZVjOTS       9            5  OYtDssffadniPtRNH   \n",
       "4     AGVklNcRTyLgcjSNf       1            4  dYEugVIEFFsqGckzP   \n",
       "...                 ...     ...          ...                ...   \n",
       "1995  zxOCyrENUUzqROvlH       4            8  LMGqCiThEUVHkruPj   \n",
       "1996  zyvVVrsaaxuZxIsmE       5            8  QLNfiuXZGTpUpBCxS   \n",
       "1997  zzMUnzuHcfeXZhvkP       1            2  WrZucNcODkiAdIuba   \n",
       "1998  zzVevrHcZeqtxJpox       3            6  eeTAXzOxSETgZVAqx   \n",
       "1999  zzYkmLsvcVtQxJOsv       7            0  xLIulznwZikmMkuuO   \n",
       "\n",
       "            BEN_IDT_ANO  BEN_IDT_TOP        ASS_NIR_ANO         BEN_IDT_MAJ  \\\n",
       "0     hLLNzJzCEjCatjuOQ         True  bQILbCWSdkGtOFVRV  29Mar2008:16:06:58   \n",
       "1     SOtppObsuLTTswJvn        False  WVLsDaagYickHVstY  18May1977:10:26:53   \n",
       "2     ZQWdkNGowBqQazPvh        False  BIimmcssWLqkAbwjb  13Mar1985:18:30:46   \n",
       "3     ppBEgPUTdlboxdtZe         True  gbIchBantEbcUYIii  08Dec1972:01:50:10   \n",
       "4     oiwKBXKSCAQduiLeu        False  lkqMQwmlIAhLSAyyt  24Mar2020:03:19:29   \n",
       "...                 ...          ...                ...                 ...   \n",
       "1995  OYNZDuXcmQifOoPRp        False  OUCxkalYgQnopqPIv  18Apr2011:23:08:10   \n",
       "1996  CrndhpjRsmGEqjhBG         True  KofaeEtwANlfvPfCR  21Jan2016:08:09:31   \n",
       "1997  JSQDgnzJbhEstaYdP         True  uQsKKjTrQJEXtCBOO  22Mar1979:02:12:33   \n",
       "1998  eUuWCXhjKUXWtYtbP         True  VMZhGKXzAigRekvAh  21Aug2012:10:45:05   \n",
       "1999  HRWhfIXIgxyPVswjZ         True  DcUXCRtRNwBLTdPfG  06Apr1974:14:50:05   \n",
       "\n",
       "     BEN_CDI_NIR  BEN_NAI_ANN  ...         BEN_DCD_DTE  BEN_DCD_AME  \\\n",
       "0             09         2009  ...  27SEP1944:00:00:00       201605   \n",
       "1             05         2004  ...  11JUN2007:00:00:00       201709   \n",
       "2             NN         1971  ...  10DEC1943:00:00:00       201112   \n",
       "3             99         1972  ...  15JUL2007:00:00:00       198508   \n",
       "4             04         1988  ...  07DEC1960:00:00:00       198104   \n",
       "...          ...          ...  ...                 ...          ...   \n",
       "1995          09         1968  ...  22JAN2011:00:00:00       201512   \n",
       "1996          14         1969  ...  30JUN1897:00:00:00       197103   \n",
       "1997          14         1964  ...  06MAY1963:00:00:00       197409   \n",
       "1998          05         1994  ...  24JUL1958:00:00:00       199104   \n",
       "1999          99         2005  ...  14OCT1999:00:00:00       197106   \n",
       "\n",
       "     ORG_AFF_BEN  BEN_RES_DPT BEN_RES_COM BEN_TOP_CNS  MAX_TRT_DTD  \\\n",
       "0      01C741986          012           5        True   23/03/1977   \n",
       "1      01C631231          012          18       False   11/07/1975   \n",
       "2      01M311537          065         157        True   25/03/2000   \n",
       "3      95C331005          065         480        True   30/06/2007   \n",
       "4      01C595551          072         277       False   05/11/2016   \n",
       "...          ...          ...         ...         ...          ...   \n",
       "1995   01C131453          095         660       False   28/11/1976   \n",
       "1996   01C596205          02B         109        True   11/03/1970   \n",
       "1997   92C831398          068         172       False   06/09/2015   \n",
       "1998   01C973671          009         284       False   30/10/1987   \n",
       "1999   01C891872          055         475        True   10/02/1988   \n",
       "\n",
       "      ORG_CLE_NEW         BEN_DTE_INS         BEN_DTE_MAJ  \n",
       "0       01C141031  18AUG1946:00:00:00  29DEC1879:00:00:00  \n",
       "1       99C191599  28MAR2016:00:00:00  15AUG1966:00:00:00  \n",
       "2       91C541493  07APR1975:00:00:00  31OCT1934:00:00:00  \n",
       "3       92C511052  10JUN1882:00:00:00  04JAN1912:00:00:00  \n",
       "4       01C441230  19OCT1977:00:00:00  04JUN1964:00:00:00  \n",
       "...           ...                 ...                 ...  \n",
       "1995    01C673814  05AUG1997:00:00:00  07OCT1914:00:00:00  \n",
       "1996    01C596342  20JUL1902:00:00:00  23APR1980:00:00:00  \n",
       "1997    94C261599  11OCT1923:00:00:00  06MAR1973:00:00:00  \n",
       "1998    01C871169  10MAY2017:00:00:00  12APR1989:00:00:00  \n",
       "1999    01C061481  06NOV1933:00:00:00  06FEB1935:00:00:00  \n",
       "\n",
       "[2000 rows x 22 columns]"
      ]
     },
     "execution_count": 75,
     "metadata": {},
     "output_type": "execute_result"
    }
   ],
   "source": [
    "# corrélation nombre d'hospitalisations / âge\n",
    "\n",
    "n_hosp = flat_mco.groupby('BEN_NIR_PSA')\\\n",
    "                 .count()['ETA_NUM']\\\n",
    "                 .reset_index()\\\n",
    "                 .rename(columns={'ETA_NUM':'n_hosp'})\\\n",
    "                 .merge(irbenr,on='BEN_NIR_PSA')\n",
    "n_hosp"
   ]
  },
  {
   "cell_type": "code",
   "execution_count": 77,
   "id": "dc217894-46cc-46d4-af4b-da1fe04d6ad6",
   "metadata": {},
   "outputs": [
    {
     "name": "stdout",
     "output_type": "stream",
     "text": [
      "La corrélation entre le nombre d'hospitalisations et la date de naissance est 0.01\n"
     ]
    }
   ],
   "source": [
    "corr = np.corrcoef(n_hosp['n_hosp'],n_hosp['BEN_NAI_ANN'])[0,1]\n",
    "print(f'La corrélation entre le nombre d\\'hospitalisations et la date de naissance est {corr:.2f}')"
   ]
  },
  {
   "cell_type": "markdown",
   "id": "7c266f5e-1994-4740-abef-5ed2e75f5f05",
   "metadata": {},
   "source": [
    "On s'attendrait typiquement à avoir une corrélation plus forte et négative (plus le patient est âgé, plus il a d'hospitalisations)"
   ]
  },
  {
   "cell_type": "markdown",
   "id": "90f4a0c4-2695-498f-9f20-6590f3987201",
   "metadata": {},
   "source": [
    "## 2. Réalisme statistique"
   ]
  },
  {
   "cell_type": "markdown",
   "id": "fae734d4-c680-489b-9fae-d750be073e50",
   "metadata": {},
   "source": [
    "Un axe d'amélioration majeur est le réalisme statistique des valeurs observées. En l'état, seules les distributions unidimensionnelles sont respectées, c'est-à-dire que l'on a une distribution réaliste de diagnostics de cancer et d'actes de chimiothérapie. \n",
    "<br>En revanche, les moments d'ordre 2 et plus, en particulier les corrélations, ne sont pas respectés $\\rightarrow$ les patients présentant un diagnostic de cancer et ceux suivant une chimiothérapie ne sont pas les mêmes.\n",
    "\n",
    "Le défi: en utilisant des données en open data, comment modéliser certaines corrélations? On pensera notamment aux distributions en fonction de l'âge et du sexe.\n",
    "\n",
    "Sources open data: \n",
    "- ScanSanté: https://www.scansante.fr/applications/analyse-activite-nationale\n",
    "- https://documentation-snds.health-data-hub.fr/open_data/"
   ]
  },
  {
   "cell_type": "code",
   "execution_count": null,
   "id": "c9255bed-9eec-42b9-884c-10a900b39c4a",
   "metadata": {},
   "outputs": [],
   "source": [
    "## à titre d'exemple, on peut observer les corrélations entre nombre d'hospitalisations, sexe et âge "
   ]
  },
  {
   "cell_type": "markdown",
   "id": "f302ab82-1325-48f6-9736-d340434bf4f3",
   "metadata": {},
   "source": [
    "## 3. Règles métier"
   ]
  },
  {
   "cell_type": "markdown",
   "id": "d78684c0-3f7f-4f23-96b7-b1588acf9eb0",
   "metadata": {},
   "source": [
    "Au delà des corrélations que l'on peut observer, certaines règles sont immuables: par exemple, un homme ne peut pas être enceinte, ou une femme ne peut pas avoir de cancer de la prostate. \n",
    "<br>$\\rightarrow$On pourra arguer qu'imposer $Corr(homme,enceinte)=0$ est satisfaisant, mais cela devient nettement plus complexe lorsque l'on pense à des intervalles de temps entre traitement (ex: dialyse toutes les semaines) ou bien des règles de traitement (ex: une femme enceinte ne recevra pas le même traitement qu'une femme non enceinte ou qu'un homme). "
   ]
  },
  {
   "cell_type": "code",
   "execution_count": null,
   "id": "553d9690-cf92-4025-86eb-ca3f51c0446e",
   "metadata": {},
   "outputs": [],
   "source": []
  },
  {
   "cell_type": "markdown",
   "id": "44f2745e-b832-4a91-89cc-709c0a7b53e0",
   "metadata": {},
   "source": [
    "## 4. Volumétrie"
   ]
  },
  {
   "cell_type": "markdown",
   "id": "46258d1b-510c-402c-b44a-988b9b6e160d",
   "metadata": {},
   "source": [
    "Dans cette partie, plus orientée data engineering, nous cherchons à générer un jeu de données massif. <br>\n",
    "$\\rightarrow$En l'état, le module de génération stocke les tables sous forme de dataframe pandas. <br>\n",
    "$\\rightarrow$Pour se placer en conditions réelles (faire des tests de charge notamment), on peut vouloir générer des tables qui ne tiennent pas en mémoire (ou simplement générer des données volumineuses assez rapidement). "
   ]
  },
  {
   "cell_type": "markdown",
   "id": "bed16914-abfc-4803-802e-fe580a7075c8",
   "metadata": {},
   "source": [
    "Les scripts à modifier seront: \n",
    "- src/lib/graphGenerator.py\n",
    "- src/lib/randomGenerator.py"
   ]
  },
  {
   "cell_type": "code",
   "execution_count": 2,
   "id": "6d0ddc5b-dc02-4d32-b43e-952320928428",
   "metadata": {},
   "outputs": [],
   "source": [
    "# ... "
   ]
  }
 ],
 "metadata": {
  "kernelspec": {
   "display_name": "Python 3 (ipykernel)",
   "language": "python",
   "name": "python3"
  },
  "language_info": {
   "codemirror_mode": {
    "name": "ipython",
    "version": 3
   },
   "file_extension": ".py",
   "mimetype": "text/x-python",
   "name": "python",
   "nbconvert_exporter": "python",
   "pygments_lexer": "ipython3",
   "version": "3.8.10"
  }
 },
 "nbformat": 4,
 "nbformat_minor": 5
}
